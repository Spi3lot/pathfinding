{
 "cells": [
  {
   "cell_type": "code",
   "outputs": [],
   "source": [
    "import matplotlib.pyplot as plt\n",
    "import pandas as pd\n",
    "import seaborn as sns"
   ],
   "metadata": {
    "collapsed": false,
    "ExecuteTime": {
     "end_time": "2024-03-24T11:06:04.803080Z",
     "start_time": "2024-03-24T11:06:04.796920Z"
    }
   },
   "id": "c9c312d62bd0d860",
   "execution_count": 3
  },
  {
   "cell_type": "code",
   "outputs": [
    {
     "name": "stdout",
     "output_type": "stream",
     "text": [
      "<class 'pandas.core.frame.DataFrame'>\n",
      "RangeIndex: 1000 entries, 0 to 999\n",
      "Data columns (total 8 columns):\n",
      " #   Column               Non-Null Count  Dtype  \n",
      "---  ------               --------------  -----  \n",
      " 0   Algorithm            1000 non-null   object \n",
      " 1   Path Present         1000 non-null   bool   \n",
      " 2   Path Length          1000 non-null   int64  \n",
      " 3   Path Weight          1000 non-null   float64\n",
      " 4   Duration (s)         1000 non-null   float64\n",
      " 5   Visited Vertices     1000 non-null   int64  \n",
      " 6   Average Degree       1000 non-null   float64\n",
      " 7   Average Path Degree  1000 non-null   float64\n",
      "dtypes: bool(1), float64(4), int64(2), object(1)\n",
      "memory usage: 55.8+ KB\n"
     ]
    }
   ],
   "source": [
    "benchmark = pd.read_csv('15-benchmark.csv')\n",
    "benchmark.insert(1, 'Path Present', benchmark['Path Length'] != 0, True)\n",
    "\n",
    "benchmark['Duration (µs)'] /= 1e6\n",
    "benchmark.rename(columns={'Duration (µs)': 'Duration (s)'}, inplace=True)\n",
    "\n",
    "benchmark.replace({\n",
    "    'Algorithm': {\n",
    "        'BreadthFirstSearch': 'BFS',\n",
    "        'DepthFirstSearch': 'DFS',\n",
    "        'AStar': 'A*',\n",
    "        'BidiBestFirstSearch': 'Bidi A*',\n",
    "    }\n",
    "}, inplace=True)\n",
    "\n",
    "benchmark.info()"
   ],
   "metadata": {
    "collapsed": false,
    "ExecuteTime": {
     "end_time": "2024-03-24T11:06:04.929063Z",
     "start_time": "2024-03-24T11:06:04.872074Z"
    }
   },
   "id": "ee188ca7a7f87c84",
   "execution_count": 4
  },
  {
   "cell_type": "code",
   "outputs": [
    {
     "name": "stdout",
     "output_type": "stream",
     "text": [
      "<class 'pandas.core.frame.DataFrame'>\n",
      "RangeIndex: 1000 entries, 0 to 999\n",
      "Data columns (total 8 columns):\n",
      " #   Column               Non-Null Count  Dtype  \n",
      "---  ------               --------------  -----  \n",
      " 0   Algorithm            1000 non-null   object \n",
      " 1   Path Present         1000 non-null   bool   \n",
      " 2   Path Length          1000 non-null   int64  \n",
      " 3   Path Weight          1000 non-null   float64\n",
      " 4   Duration (s)         1000 non-null   float64\n",
      " 5   Visited Vertices     1000 non-null   int64  \n",
      " 6   Average Degree       1000 non-null   float64\n",
      " 7   Average Path Degree  1000 non-null   float64\n",
      "dtypes: bool(1), float64(4), int64(2), object(1)\n",
      "memory usage: 55.8+ KB\n"
     ]
    }
   ],
   "source": [
    "benchmark_path = benchmark[benchmark['Path Present']]\n",
    "benchmark_path.info()"
   ],
   "metadata": {
    "collapsed": false,
    "ExecuteTime": {
     "end_time": "2024-03-24T11:06:04.946484Z",
     "start_time": "2024-03-24T11:06:04.932094Z"
    }
   },
   "id": "37e653228fb7f13",
   "execution_count": 5
  },
  {
   "cell_type": "code",
   "outputs": [
    {
     "name": "stdout",
     "output_type": "stream",
     "text": [
      "<class 'pandas.core.frame.DataFrame'>\n",
      "Index: 0 entries\n",
      "Data columns (total 8 columns):\n",
      " #   Column               Non-Null Count  Dtype  \n",
      "---  ------               --------------  -----  \n",
      " 0   Algorithm            0 non-null      object \n",
      " 1   Path Present         0 non-null      bool   \n",
      " 2   Path Length          0 non-null      int64  \n",
      " 3   Path Weight          0 non-null      float64\n",
      " 4   Duration (s)         0 non-null      float64\n",
      " 5   Visited Vertices     0 non-null      int64  \n",
      " 6   Average Degree       0 non-null      float64\n",
      " 7   Average Path Degree  0 non-null      float64\n",
      "dtypes: bool(1), float64(4), int64(2), object(1)\n",
      "memory usage: 0.0+ bytes\n"
     ]
    }
   ],
   "source": [
    "benchmark_nopath = benchmark[benchmark['Path Present'] == False]\n",
    "benchmark_nopath.info()"
   ],
   "metadata": {
    "collapsed": false,
    "ExecuteTime": {
     "end_time": "2024-03-24T11:06:04.964592Z",
     "start_time": "2024-03-24T11:06:04.949502Z"
    }
   },
   "id": "b3f92952ab9cf1ac",
   "execution_count": 6
  },
  {
   "cell_type": "markdown",
   "source": [
    "# Duration of algorithms where a path is present vs not present"
   ],
   "metadata": {
    "collapsed": false
   },
   "id": "4a2e8f8f1ab24b88"
  },
  {
   "cell_type": "code",
   "outputs": [],
   "source": [
    "sns.barplot(benchmark, x='Algorithm', y='Duration (s)', hue='Path Present', hue_order=[False, True],\n",
    "            palette=['red', 'green'])"
   ],
   "metadata": {
    "collapsed": false,
    "ExecuteTime": {
     "start_time": "2024-03-24T11:06:05.729762Z"
    }
   },
   "id": "ffbb7ede451304ed",
   "execution_count": null
  },
  {
   "cell_type": "markdown",
   "source": [
    "# Visit counts of algorithms where a path is present vs not present"
   ],
   "metadata": {
    "collapsed": false
   },
   "id": "2b9dc93bd912b465"
  },
  {
   "cell_type": "code",
   "outputs": [],
   "source": [
    "sns.barplot(benchmark, x='Algorithm', y='Visited Vertices', hue='Path Present', hue_order=[False, True],\n",
    "            palette=['red', 'green'])"
   ],
   "metadata": {
    "collapsed": false,
    "ExecuteTime": {
     "start_time": "2024-03-24T11:06:05.730764Z"
    }
   },
   "id": "94e7df34c9352acb",
   "execution_count": null
  },
  {
   "cell_type": "markdown",
   "source": [
    "# Relationship between algorithm and path length"
   ],
   "metadata": {
    "collapsed": false
   },
   "id": "e86ec37803fa088f"
  },
  {
   "cell_type": "code",
   "outputs": [],
   "source": [
    "sns.barplot(benchmark, x='Algorithm', y='Path Length')"
   ],
   "metadata": {
    "collapsed": false,
    "ExecuteTime": {
     "start_time": "2024-03-24T11:06:05.732840Z"
    }
   },
   "id": "c2787cf104c142a7",
   "execution_count": null
  },
  {
   "cell_type": "markdown",
   "source": [
    "# Relationship between visit count and duration"
   ],
   "metadata": {
    "collapsed": false
   },
   "id": "bcd037620318bbcc"
  },
  {
   "cell_type": "code",
   "outputs": [],
   "source": [
    "sns.scatterplot(benchmark, x='Visited Vertices', y='Duration (s)', hue='Algorithm')"
   ],
   "metadata": {
    "collapsed": false,
    "ExecuteTime": {
     "start_time": "2024-03-24T11:06:05.733908Z"
    }
   },
   "id": "ea8d0935f04e354a",
   "execution_count": null
  },
  {
   "cell_type": "markdown",
   "source": [
    "# Relationship between path length and visit count"
   ],
   "metadata": {
    "collapsed": false
   },
   "id": "7bfcf7a5f6cbd4c8"
  },
  {
   "cell_type": "code",
   "outputs": [],
   "source": [
    "sns.lineplot(benchmark_path, x='Path Length', y='Visited Vertices', hue='Algorithm', errorbar=('ci', 95))"
   ],
   "metadata": {
    "collapsed": false,
    "ExecuteTime": {
     "start_time": "2024-03-24T11:06:05.736174Z"
    }
   },
   "id": "42bcdbf626211f20",
   "execution_count": null
  },
  {
   "cell_type": "markdown",
   "source": [
    "# Relationship between path length and duration"
   ],
   "metadata": {
    "collapsed": false
   },
   "id": "13b7b70e92c9e0d7"
  },
  {
   "cell_type": "code",
   "outputs": [],
   "source": [
    "sns.lineplot(benchmark_path, x='Path Length', y='Duration (s)', hue='Algorithm', errorbar=('ci', 95))"
   ],
   "metadata": {
    "collapsed": false,
    "ExecuteTime": {
     "start_time": "2024-03-24T11:06:05.737206Z"
    }
   },
   "id": "9288e8714542588f",
   "execution_count": null
  },
  {
   "cell_type": "markdown",
   "source": [
    "# Relationship between average degree and visit count"
   ],
   "metadata": {
    "collapsed": false
   },
   "id": "44582c5cefffb0f6"
  },
  {
   "cell_type": "code",
   "outputs": [],
   "source": [
    "sns.scatterplot(benchmark, x='Average Path Degree', y='Visited Vertices', hue='Algorithm')"
   ],
   "metadata": {
    "collapsed": false,
    "ExecuteTime": {
     "start_time": "2024-03-24T11:06:05.738500Z"
    }
   },
   "id": "3850c90dee0971cc",
   "execution_count": null
  },
  {
   "cell_type": "markdown",
   "source": [
    "# Relationship between path length and average path degree"
   ],
   "metadata": {
    "collapsed": false
   },
   "id": "a4c42da4b976d4e6"
  },
  {
   "cell_type": "code",
   "outputs": [],
   "source": [
    "sns.lineplot(benchmark, x='Path Length', y='Average Path Degree')"
   ],
   "metadata": {
    "collapsed": false,
    "ExecuteTime": {
     "start_time": "2024-03-24T11:06:05.739623Z"
    }
   },
   "id": "2f711d7e6d541eb9",
   "execution_count": null
  },
  {
   "cell_type": "markdown",
   "source": [
    "# Distribution of durations for each algorithm"
   ],
   "metadata": {
    "collapsed": false
   },
   "id": "118eae6b79922638"
  },
  {
   "cell_type": "code",
   "outputs": [],
   "source": [
    "sns.histplot(benchmark[benchmark['Duration (s)'] < 1500], x='Duration (s)', hue='Algorithm')"
   ],
   "metadata": {
    "collapsed": false,
    "ExecuteTime": {
     "start_time": "2024-03-24T11:06:05.740638Z"
    }
   },
   "id": "60a56c045b324d41",
   "execution_count": null
  },
  {
   "cell_type": "markdown",
   "source": [
    "# Distribution of visited vertices for each algorithm"
   ],
   "metadata": {
    "collapsed": false
   },
   "id": "2b8faa36fbbb2452"
  },
  {
   "cell_type": "code",
   "outputs": [],
   "source": [
    "sns.histplot(benchmark, x='Visited Vertices', hue='Algorithm')"
   ],
   "metadata": {
    "collapsed": false,
    "ExecuteTime": {
     "start_time": "2024-03-24T11:06:05.743111Z"
    }
   },
   "id": "decf53fb89ec6daa",
   "execution_count": null
  },
  {
   "cell_type": "markdown",
   "source": [
    "# Correlation Heatmap"
   ],
   "metadata": {
    "collapsed": false
   },
   "id": "b4a78658a324814c"
  },
  {
   "cell_type": "code",
   "outputs": [],
   "source": [
    "sns.heatmap(benchmark.corr(method='pearson', numeric_only=True), annot=True)"
   ],
   "metadata": {
    "collapsed": false
   },
   "id": "410cad1b3d43b87f",
   "execution_count": null
  },
  {
   "cell_type": "code",
   "outputs": [
    {
     "data": {
      "text/plain": "                     Path Present  Path Length  Path Weight  Duration (s)  \\\nPath Present                  NaN          NaN          NaN           NaN   \nPath Length                   NaN     1.000000     1.000000      0.809650   \nPath Weight                   NaN     1.000000     1.000000      0.809650   \nDuration (s)                  NaN     0.809650     0.809650      1.000000   \nVisited Vertices              NaN     0.823911     0.823911      0.996146   \nAverage Degree                NaN          NaN          NaN           NaN   \nAverage Path Degree           NaN     0.087173     0.087173      0.068337   \n\n                     Visited Vertices  Average Degree  Average Path Degree  \nPath Present                      NaN             NaN                  NaN  \nPath Length                  0.823911             NaN             0.087173  \nPath Weight                  0.823911             NaN             0.087173  \nDuration (s)                 0.996146             NaN             0.068337  \nVisited Vertices             1.000000             NaN             0.062163  \nAverage Degree                    NaN             NaN                  NaN  \nAverage Path Degree          0.062163             NaN             1.000000  ",
      "text/html": "<div>\n<style scoped>\n    .dataframe tbody tr th:only-of-type {\n        vertical-align: middle;\n    }\n\n    .dataframe tbody tr th {\n        vertical-align: top;\n    }\n\n    .dataframe thead th {\n        text-align: right;\n    }\n</style>\n<table border=\"1\" class=\"dataframe\">\n  <thead>\n    <tr style=\"text-align: right;\">\n      <th></th>\n      <th>Path Present</th>\n      <th>Path Length</th>\n      <th>Path Weight</th>\n      <th>Duration (s)</th>\n      <th>Visited Vertices</th>\n      <th>Average Degree</th>\n      <th>Average Path Degree</th>\n    </tr>\n  </thead>\n  <tbody>\n    <tr>\n      <th>Path Present</th>\n      <td>NaN</td>\n      <td>NaN</td>\n      <td>NaN</td>\n      <td>NaN</td>\n      <td>NaN</td>\n      <td>NaN</td>\n      <td>NaN</td>\n    </tr>\n    <tr>\n      <th>Path Length</th>\n      <td>NaN</td>\n      <td>1.000000</td>\n      <td>1.000000</td>\n      <td>0.809650</td>\n      <td>0.823911</td>\n      <td>NaN</td>\n      <td>0.087173</td>\n    </tr>\n    <tr>\n      <th>Path Weight</th>\n      <td>NaN</td>\n      <td>1.000000</td>\n      <td>1.000000</td>\n      <td>0.809650</td>\n      <td>0.823911</td>\n      <td>NaN</td>\n      <td>0.087173</td>\n    </tr>\n    <tr>\n      <th>Duration (s)</th>\n      <td>NaN</td>\n      <td>0.809650</td>\n      <td>0.809650</td>\n      <td>1.000000</td>\n      <td>0.996146</td>\n      <td>NaN</td>\n      <td>0.068337</td>\n    </tr>\n    <tr>\n      <th>Visited Vertices</th>\n      <td>NaN</td>\n      <td>0.823911</td>\n      <td>0.823911</td>\n      <td>0.996146</td>\n      <td>1.000000</td>\n      <td>NaN</td>\n      <td>0.062163</td>\n    </tr>\n    <tr>\n      <th>Average Degree</th>\n      <td>NaN</td>\n      <td>NaN</td>\n      <td>NaN</td>\n      <td>NaN</td>\n      <td>NaN</td>\n      <td>NaN</td>\n      <td>NaN</td>\n    </tr>\n    <tr>\n      <th>Average Path Degree</th>\n      <td>NaN</td>\n      <td>0.087173</td>\n      <td>0.087173</td>\n      <td>0.068337</td>\n      <td>0.062163</td>\n      <td>NaN</td>\n      <td>1.000000</td>\n    </tr>\n  </tbody>\n</table>\n</div>"
     },
     "execution_count": 11,
     "metadata": {},
     "output_type": "execute_result"
    }
   ],
   "source": [
    "benchmark.corr(method='spearman', numeric_only=True)"
   ],
   "metadata": {
    "collapsed": false,
    "ExecuteTime": {
     "end_time": "2024-03-24T11:09:52.902873Z",
     "start_time": "2024-03-24T11:09:52.874180Z"
    }
   },
   "id": "131fbe26c78e4f22",
   "execution_count": 11
  }
 ],
 "metadata": {
  "kernelspec": {
   "display_name": "Python 3",
   "language": "python",
   "name": "python3"
  },
  "language_info": {
   "codemirror_mode": {
    "name": "ipython",
    "version": 2
   },
   "file_extension": ".py",
   "mimetype": "text/x-python",
   "name": "python",
   "nbconvert_exporter": "python",
   "pygments_lexer": "ipython2",
   "version": "2.7.6"
  }
 },
 "nbformat": 4,
 "nbformat_minor": 5
}
