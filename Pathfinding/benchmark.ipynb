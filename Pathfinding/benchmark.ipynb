{
 "cells": [
  {
   "cell_type": "code",
   "outputs": [],
   "source": [
    "import pandas as pd\n",
    "import seaborn as sns"
   ],
   "metadata": {
    "collapsed": false,
    "ExecuteTime": {
     "end_time": "2024-03-06T09:49:09.019769Z",
     "start_time": "2024-03-06T09:49:09.010482Z"
    }
   },
   "id": "c9c312d62bd0d860",
   "execution_count": null
  },
  {
   "cell_type": "code",
   "outputs": [],
   "source": [
    "benchmark = pd.read_csv('flexible-benchmark.csv')\n",
    "benchmark.insert(1, 'Path Present', benchmark['Path Length'] != 0, True)\n",
    "benchmark.info()"
   ],
   "metadata": {
    "collapsed": false
   },
   "id": "ee188ca7a7f87c84",
   "execution_count": null
  },
  {
   "cell_type": "code",
   "outputs": [],
   "source": [
    "benchmark_path = benchmark[benchmark['Path Present']]\n",
    "benchmark_path.info()"
   ],
   "metadata": {
    "collapsed": false,
    "ExecuteTime": {
     "end_time": "2024-03-06T09:49:09.044233Z",
     "start_time": "2024-03-06T09:49:09.040668Z"
    }
   },
   "id": "37e653228fb7f13",
   "execution_count": null
  },
  {
   "cell_type": "code",
   "outputs": [],
   "source": [
    "benchmark_nopath = benchmark[benchmark['Path Present'] == False]\n",
    "benchmark_nopath.info()"
   ],
   "metadata": {
    "collapsed": false,
    "ExecuteTime": {
     "end_time": "2024-03-06T09:49:09.053172Z",
     "start_time": "2024-03-06T09:49:09.050555Z"
    }
   },
   "id": "b3f92952ab9cf1ac",
   "execution_count": null
  },
  {
   "cell_type": "markdown",
   "source": [
    "# Duration of algorithms where a path is present vs not present"
   ],
   "metadata": {
    "collapsed": false
   },
   "id": "4a2e8f8f1ab24b88"
  },
  {
   "cell_type": "code",
   "outputs": [],
   "source": [
    "sns.lineplot(benchmark, x='Algorithm', y='Duration (µs)', hue='Path Present', palette='colorblind')"
   ],
   "metadata": {
    "collapsed": false,
    "ExecuteTime": {
     "end_time": "2024-03-06T09:49:09.066687Z",
     "start_time": "2024-03-06T09:49:09.063225Z"
    }
   },
   "id": "ffbb7ede451304ed",
   "execution_count": null
  },
  {
   "cell_type": "markdown",
   "source": [
    "# Relationship between path length and duration"
   ],
   "metadata": {
    "collapsed": false
   },
   "id": "13b7b70e92c9e0d7"
  },
  {
   "cell_type": "code",
   "outputs": [],
   "source": [
    "sns.lineplot(benchmark_path, x='Path Length', y='Duration (µs)', hue='Algorithm')"
   ],
   "metadata": {
    "collapsed": false
   },
   "id": "9288e8714542588f",
   "execution_count": null
  },
  {
   "cell_type": "markdown",
   "source": [
    "# Relationship between average degree and duration"
   ],
   "metadata": {
    "collapsed": false
   },
   "id": "6125aec0dfc231c4"
  },
  {
   "cell_type": "code",
   "outputs": [],
   "source": [
    "sns.lineplot(benchmark_path, x='Average Degree', y='Duration (µs)', hue='Algorithm')"
   ],
   "metadata": {
    "collapsed": false
   },
   "id": "9d5f39c32d3d5887",
   "execution_count": null
  },
  {
   "cell_type": "markdown",
   "source": [
    "# Relationship between path length and average degree"
   ],
   "metadata": {
    "collapsed": false
   },
   "id": "a43133fb10c7c184"
  },
  {
   "cell_type": "code",
   "outputs": [],
   "source": [
    "sns.lineplot(benchmark, x='Path Length', y='Average Degree')"
   ],
   "metadata": {
    "collapsed": false
   },
   "id": "cac3bdef0814a720",
   "execution_count": null
  },
  {
   "cell_type": "code",
   "outputs": [],
   "source": [
    "sns.histplot(benchmark[benchmark['Duration (µs)'] < 50], x='Duration (µs)', hue='Algorithm')"
   ],
   "metadata": {
    "collapsed": false
   },
   "id": "60a56c045b324d41",
   "execution_count": null
  }
 ],
 "metadata": {
  "kernelspec": {
   "display_name": "Python 3",
   "language": "python",
   "name": "python3"
  },
  "language_info": {
   "codemirror_mode": {
    "name": "ipython",
    "version": 2
   },
   "file_extension": ".py",
   "mimetype": "text/x-python",
   "name": "python",
   "nbconvert_exporter": "python",
   "pygments_lexer": "ipython2",
   "version": "2.7.6"
  }
 },
 "nbformat": 4,
 "nbformat_minor": 5
}
